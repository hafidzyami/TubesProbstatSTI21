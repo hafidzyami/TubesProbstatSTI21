{
 "cells": [
  {
   "cell_type": "markdown",
   "id": "ed7a4836",
   "metadata": {},
   "source": [
    "## Nama : Hafidz Shidqi\n",
    "## NIM : 18221074\n",
    "## Kelas : K02"
   ]
  },
  {
   "cell_type": "code",
   "execution_count": 13,
   "id": "aee81056",
   "metadata": {},
   "outputs": [],
   "source": [
    "import pandas as pd\n",
    "import seaborn as sns\n",
    "import numpy as np\n",
    "import matplotlib.pyplot as plt\n",
    "from scipy.stats import f_oneway\n",
    "\n",
    "df = pd.read_excel(\"18221074.xlsx\")\n",
    "\n",
    "#link ipynb :\n"
   ]
  },
  {
   "cell_type": "markdown",
   "id": "8da23122",
   "metadata": {},
   "source": [
    "## 1. Buat bar chart / pie chart/ donut chart yang menunjukkan perbedaan frekuensi / proporsi jenis kelamin responden."
   ]
  },
  {
   "cell_type": "code",
   "execution_count": 14,
   "id": "c78667a3",
   "metadata": {},
   "outputs": [
    {
     "data": {
      "image/png": "[encoded data removed]",
      "text/plain": [
       "<Figure size 576x360 with 1 Axes>"
      ]
     },
     "metadata": {
      "needs_background": "light"
     },
     "output_type": "display_data"
    }
   ],
   "source": [
    "# Menghitung banyaknya responden pria dan wanita\n",
    "jumlahPria = df[\"Jenis Kelamin\"].value_counts()[\"Pria\"]\n",
    "jumlahWanita = df[\"Jenis Kelamin\"].value_counts()[\"Wanita\"]\n",
    "\n",
    "# Membuat fig sebagai figure, ax sebagai axes\n",
    "fig, ax = plt.subplots()   \n",
    "fig.set_figwidth(8)\n",
    "fig.set_figheight(5)\n",
    "\n",
    "# Visualisasi dengan bar chart\n",
    "bars = plt.bar(\n",
    "    ['Pria', 'Wanita'],\n",
    "    [jumlahPria, jumlahWanita],\n",
    "    color = ['skyblue', 'pink'],\n",
    ")\n",
    "\n",
    "# Mengatur grid agar lebih visualisasi tampak bagus\n",
    "plt.grid(\n",
    "    linestyle = '--',\n",
    "    linewidth = 1,\n",
    "    axis = 'y',\n",
    "    alpha = 0.75,\n",
    ")\n",
    "\n",
    "# Mengatur axes agar lebih visualisasi tampak bagus\n",
    "ax.bar_label(bars)\n",
    "ax.set(\n",
    "    xlabel = 'Jenis Kelamin',\n",
    "    ylabel = 'Jumlah',\n",
    "    title = 'Proporsi Jenis Kelamin Responden'\n",
    ")\n",
    "ax.set_axisbelow(True)\n",
    "ax.yaxis.grid(color='gray', linestyle='dashed')\n",
    "\n",
    "plt.show()"
   ]
  },
  {
   "cell_type": "markdown",
   "id": "ddfb6b70",
   "metadata": {},
   "source": [
    "## 2. Buat tabel frekuensi dan proporsi untuk jenis kelamin responden"
   ]
  },
  {
   "cell_type": "code",
   "execution_count": 15,
   "id": "0a5e9c7a",
   "metadata": {},
   "outputs": [
    {
     "data": {
      "text/html": [
       "<div>\n",
       "<style scoped>\n",
       "    .dataframe tbody tr th:only-of-type {\n",
       "        vertical-align: middle;\n",
       "    }\n",
       "\n",
       "    .dataframe tbody tr th {\n",
       "        vertical-align: top;\n",
       "    }\n",
       "\n",
       "    .dataframe thead th {\n",
       "        text-align: right;\n",
       "    }\n",
       "</style>\n",
       "<table border=\"1\" class=\"dataframe\">\n",
       "  <thead>\n",
       "    <tr style=\"text-align: right;\">\n",
       "      <th></th>\n",
       "      <th>Frekuensi</th>\n",
       "      <th>Proporsi</th>\n",
       "    </tr>\n",
       "    <tr>\n",
       "      <th>Jenis Kelamin</th>\n",
       "      <th></th>\n",
       "      <th></th>\n",
       "    </tr>\n",
       "  </thead>\n",
       "  <tbody>\n",
       "    <tr>\n",
       "      <th>Wanita</th>\n",
       "      <td>157</td>\n",
       "      <td>0.523333</td>\n",
       "    </tr>\n",
       "    <tr>\n",
       "      <th>Pria</th>\n",
       "      <td>143</td>\n",
       "      <td>0.476667</td>\n",
       "    </tr>\n",
       "  </tbody>\n",
       "</table>\n",
       "</div>"
      ],
      "text/plain": [
       "               Frekuensi  Proporsi\n",
       "Jenis Kelamin                     \n",
       "Wanita               157  0.523333\n",
       "Pria                 143  0.476667"
      ]
     },
     "execution_count": 15,
     "metadata": {},
     "output_type": "execute_result"
    }
   ],
   "source": [
    "#jumlahTotal responden\n",
    "jumlahTotal = jumlahWanita + jumlahPria\n",
    "\n",
    "# Membuat tabel frekuensi dan proporsi dari kategoris jenis kelamin\n",
    "dataFrek = {\n",
    "    'Jenis Kelamin' : ['Wanita', 'Pria'],\n",
    "    'Frekuensi' : [jumlahWanita, jumlahPria],\n",
    "    'Proporsi' : [jumlahWanita/jumlahTotal, jumlahPria/jumlahTotal]\n",
    "} \n",
    "tabelFrek = pd.DataFrame(dataFrek)\n",
    "tabelFrek.set_index(\"Jenis Kelamin\")"
   ]
  },
  {
   "cell_type": "markdown",
   "id": "86426135",
   "metadata": {},
   "source": [
    "## 3. Buat histogram untuk data umur responden"
   ]
  },
  {
   "cell_type": "code",
   "execution_count": 16,
   "id": "9dcb22d2",
   "metadata": {},
   "outputs": [
    {
     "data": {
      "text/html": [
       "<div>\n",
       "<style scoped>\n",
       "    .dataframe tbody tr th:only-of-type {\n",
       "        vertical-align: middle;\n",
       "    }\n",
       "\n",
       "    .dataframe tbody tr th {\n",
       "        vertical-align: top;\n",
       "    }\n",
       "\n",
       "    .dataframe thead th {\n",
       "        text-align: right;\n",
       "    }\n",
       "</style>\n",
       "<table border=\"1\" class=\"dataframe\">\n",
       "  <thead>\n",
       "    <tr style=\"text-align: right;\">\n",
       "      <th></th>\n",
       "      <th>Jenis Kelamin</th>\n",
       "      <th>Usia</th>\n",
       "      <th>Pendidikan Terakhir</th>\n",
       "      <th>Pekerjaan</th>\n",
       "      <th>Penghasilan per Bulan</th>\n",
       "      <th>Domisili</th>\n",
       "      <th>Durasi Penggunaan Internet per Hari (dalam Jam)</th>\n",
       "      <th>Aktivitas Online Meningkat</th>\n",
       "      <th>Aktivitas yang Meningkat dalam 3 Bulan Terakhir</th>\n",
       "      <th>layanan_aktif_1</th>\n",
       "      <th>...</th>\n",
       "      <th>cara_pembayaran_belanja_online_5</th>\n",
       "      <th>cara_pembayaran_belanja_online_6</th>\n",
       "      <th>cara_pembayaran_belanja_online_7</th>\n",
       "      <th>cara_pembayaran_belanja_online_8</th>\n",
       "      <th>keluhan_belanja_online_1</th>\n",
       "      <th>keluhan_belanja_online_2</th>\n",
       "      <th>keluhan_belanja_online_3</th>\n",
       "      <th>keluhan_belanja_online_4</th>\n",
       "      <th>keluhan_belanja_online_5</th>\n",
       "      <th>keluhan_belanja_online_6</th>\n",
       "    </tr>\n",
       "  </thead>\n",
       "  <tbody>\n",
       "    <tr>\n",
       "      <th>77</th>\n",
       "      <td>Wanita</td>\n",
       "      <td>NaN</td>\n",
       "      <td>SMA</td>\n",
       "      <td>Pelajar / Mahasiswa</td>\n",
       "      <td>&lt; Rp 2 juta</td>\n",
       "      <td>Jakarta</td>\n",
       "      <td>1000%</td>\n",
       "      <td>Tidak</td>\n",
       "      <td>NaN</td>\n",
       "      <td>Mobile Banking</td>\n",
       "      <td>...</td>\n",
       "      <td>Transfer via ATM</td>\n",
       "      <td>NaN</td>\n",
       "      <td>NaN</td>\n",
       "      <td>NaN</td>\n",
       "      <td>NaN</td>\n",
       "      <td>NaN</td>\n",
       "      <td>NaN</td>\n",
       "      <td>NaN</td>\n",
       "      <td>Pembayaran telah dilakukan tetapi tidak terdet...</td>\n",
       "      <td>NaN</td>\n",
       "    </tr>\n",
       "    <tr>\n",
       "      <th>124</th>\n",
       "      <td>Wanita</td>\n",
       "      <td>NaN</td>\n",
       "      <td>D3</td>\n",
       "      <td>Karyawan Swasta</td>\n",
       "      <td>Rp 2 juta – Rp 5 juta</td>\n",
       "      <td>Denpasar</td>\n",
       "      <td>900%</td>\n",
       "      <td>Tidak</td>\n",
       "      <td>NaN</td>\n",
       "      <td>Mobile Banking</td>\n",
       "      <td>...</td>\n",
       "      <td>NaN</td>\n",
       "      <td>NaN</td>\n",
       "      <td>NaN</td>\n",
       "      <td>NaN</td>\n",
       "      <td>NaN</td>\n",
       "      <td>Barang rusak/ salah tetapi tidak dapat dikemba...</td>\n",
       "      <td>NaN</td>\n",
       "      <td>NaN</td>\n",
       "      <td>NaN</td>\n",
       "      <td>NaN</td>\n",
       "    </tr>\n",
       "    <tr>\n",
       "      <th>128</th>\n",
       "      <td>Wanita</td>\n",
       "      <td>1969.0</td>\n",
       "      <td>S1</td>\n",
       "      <td>Ibu Rumah Tangga</td>\n",
       "      <td>&gt; Rp 10 juta</td>\n",
       "      <td>Bekasi</td>\n",
       "      <td>NaN</td>\n",
       "      <td>Tidak</td>\n",
       "      <td>NaN</td>\n",
       "      <td>Mobile Banking</td>\n",
       "      <td>...</td>\n",
       "      <td>NaN</td>\n",
       "      <td>Kartu Kredit / Debit Online</td>\n",
       "      <td>NaN</td>\n",
       "      <td>NaN</td>\n",
       "      <td>Barang yang diperoleh tidak sesuai dengan spes...</td>\n",
       "      <td>NaN</td>\n",
       "      <td>Pembayaran sudah dilakukan; barang tidak tersedia</td>\n",
       "      <td>NaN</td>\n",
       "      <td>NaN</td>\n",
       "      <td>NaN</td>\n",
       "    </tr>\n",
       "  </tbody>\n",
       "</table>\n",
       "<p>3 rows × 150 columns</p>\n",
       "</div>"
      ],
      "text/plain": [
       "    Jenis Kelamin    Usia Pendidikan Terakhir            Pekerjaan  \\\n",
       "77         Wanita     NaN                 SMA  Pelajar / Mahasiswa   \n",
       "124        Wanita     NaN                  D3      Karyawan Swasta   \n",
       "128        Wanita  1969.0                  S1     Ibu Rumah Tangga   \n",
       "\n",
       "     Penghasilan per Bulan  Domisili  \\\n",
       "77             < Rp 2 juta   Jakarta   \n",
       "124  Rp 2 juta – Rp 5 juta  Denpasar   \n",
       "128           > Rp 10 juta    Bekasi   \n",
       "\n",
       "    Durasi Penggunaan Internet per Hari (dalam Jam)  \\\n",
       "77                                            1000%   \n",
       "124                                            900%   \n",
       "128                                             NaN   \n",
       "\n",
       "    Aktivitas Online Meningkat  \\\n",
       "77                       Tidak   \n",
       "124                      Tidak   \n",
       "128                      Tidak   \n",
       "\n",
       "    Aktivitas yang Meningkat dalam 3 Bulan Terakhir layanan_aktif_1  ...  \\\n",
       "77                                              NaN  Mobile Banking  ...   \n",
       "124                                             NaN  Mobile Banking  ...   \n",
       "128                                             NaN  Mobile Banking  ...   \n",
       "\n",
       "    cara_pembayaran_belanja_online_5 cara_pembayaran_belanja_online_6  \\\n",
       "77                  Transfer via ATM                              NaN   \n",
       "124                              NaN                              NaN   \n",
       "128                              NaN      Kartu Kredit / Debit Online   \n",
       "\n",
       "    cara_pembayaran_belanja_online_7 cara_pembayaran_belanja_online_8  \\\n",
       "77                               NaN                              NaN   \n",
       "124                              NaN                              NaN   \n",
       "128                              NaN                              NaN   \n",
       "\n",
       "                              keluhan_belanja_online_1  \\\n",
       "77                                                 NaN   \n",
       "124                                                NaN   \n",
       "128  Barang yang diperoleh tidak sesuai dengan spes...   \n",
       "\n",
       "                              keluhan_belanja_online_2  \\\n",
       "77                                                 NaN   \n",
       "124  Barang rusak/ salah tetapi tidak dapat dikemba...   \n",
       "128                                                NaN   \n",
       "\n",
       "                              keluhan_belanja_online_3  \\\n",
       "77                                                 NaN   \n",
       "124                                                NaN   \n",
       "128  Pembayaran sudah dilakukan; barang tidak tersedia   \n",
       "\n",
       "    keluhan_belanja_online_4  \\\n",
       "77                       NaN   \n",
       "124                      NaN   \n",
       "128                      NaN   \n",
       "\n",
       "                              keluhan_belanja_online_5  \\\n",
       "77   Pembayaran telah dilakukan tetapi tidak terdet...   \n",
       "124                                                NaN   \n",
       "128                                                NaN   \n",
       "\n",
       "    keluhan_belanja_online_6  \n",
       "77                       NaN  \n",
       "124                      NaN  \n",
       "128                      NaN  \n",
       "\n",
       "[3 rows x 150 columns]"
      ]
     },
     "execution_count": 16,
     "metadata": {},
     "output_type": "execute_result"
    }
   ],
   "source": [
    "#Terdapat data yang kosong (NaN) dan usia yang tidak masuk akal (usia > 200)\n",
    "ageNan = df[pd.isnull(df['Usia'])]\n",
    "ageNotValid = df[df['Usia'] > 200]\n",
    "data = pd.concat([ageNan, ageNotValid])\n",
    "data"
   ]
  },
  {
   "cell_type": "code",
   "execution_count": 17,
   "id": "eab1395e",
   "metadata": {},
   "outputs": [],
   "source": [
    "#Harus melakukan cleaning data sehingga visualisasi bersifat insightful\n",
    "\n",
    "# Langkah Pertama : Mengubah Usia yang bernilai 1969 menjadi 2022-1969, mengingat 1969 merupakan tahun kelahiran\n",
    "ageTemp = df['Usia']\n",
    "ageTemp = ageTemp.replace(to_replace=1969, value = 53)\n",
    "\n",
    "# Langkah Kedua   : Mengubah Usia NaN menjadi rata-rata umur berdasarkan pekerjaannya\n",
    "#                   Asumsi rata-rata usia Mahasiswa = 20 dan Karyawan Swasta = 25 sehingga diubah menjadi 23\n",
    "ageTemp = ageTemp.replace(to_replace=np.nan, value = 23)\n",
    "beforeCleansing = df.copy()\n",
    "\n",
    "#Update df setelah di cleansing agar umur pengguna tidak ada NaN dan tidak ada umur yang tidak valid\n",
    "df.loc[:, ['Usia']] = ageTemp"
   ]
  },
  {
   "cell_type": "code",
   "execution_count": 18,
   "id": "f37a83ef",
   "metadata": {},
   "outputs": [
    {
     "data": {
      "image/png": "[encoded data removed]",
      "text/plain": [
       "<Figure size 720x288 with 2 Axes>"
      ]
     },
     "metadata": {
      "needs_background": "light"
     },
     "output_type": "display_data"
    }
   ],
   "source": [
    "#Plotting Histogram\n",
    "fig, [ax1, ax2] = plt.subplots(1,2)   #Membuat figure dan axes\n",
    "fig.tight_layout()\n",
    "fig.set_figwidth(10)\n",
    "fig.set_figheight(4)\n",
    "\n",
    "ax1.hist(beforeCleansing['Usia'], color = '#be254a') #Histogram sebelum cleansing\n",
    "ax1.set(\n",
    "    xlabel = \"Usia\",\n",
    "    ylabel = \"Kuantitas\",\n",
    "    title = \"Histogram Data Umur Responden Sebelum Cleansing\",\n",
    "    axisbelow = True\n",
    "    )\n",
    "ax1.grid()\n",
    "\n",
    "\n",
    "ax2.hist(ageTemp, color = '#feeb9d') #Histogram setelah cleansing\n",
    "ax2.set(\n",
    "    xlabel = \"Usia\",\n",
    "    ylabel = \"Kuantitas\",\n",
    "    title = \"Histogram Data Umur Responden Setelah Cleansing\",\n",
    "    axisbelow = True\n",
    "    )\n",
    "ax2.grid()\n",
    "plt.show()"
   ]
  },
  {
   "cell_type": "markdown",
   "id": "7c1994e2",
   "metadata": {},
   "source": [
    "## 4. Buat boxplot untuk data umur responden"
   ]
  },
  {
   "cell_type": "code",
   "execution_count": 19,
   "id": "10d812f1",
   "metadata": {},
   "outputs": [
    {
     "data": {
      "image/png": "[encoded data removed]",
      "text/plain": [
       "<Figure size 432x288 with 1 Axes>"
      ]
     },
     "metadata": {
      "needs_background": "light"
     },
     "output_type": "display_data"
    }
   ],
   "source": [
    "#Plotting boxplot\n",
    "fig, ax = plt.subplots()\n",
    "plt.boxplot(ageTemp, showmeans = True)\n",
    "plt.grid()\n",
    "ax.set(\n",
    "    ylabel = 'Usia',\n",
    "    title = 'Data Umur Responden'\n",
    ")\n",
    "plt.show()"
   ]
  },
  {
   "cell_type": "markdown",
   "id": "87f4bd97",
   "metadata": {},
   "source": [
    "## 5. Identifikasi nilai mean, Q1, Q2/median, Q3, min, max dari data umur responden"
   ]
  },
  {
   "cell_type": "code",
   "execution_count": 20,
   "id": "0ac1837f",
   "metadata": {},
   "outputs": [
    {
     "data": {
      "text/html": [
       "<div>\n",
       "<style scoped>\n",
       "    .dataframe tbody tr th:only-of-type {\n",
       "        vertical-align: middle;\n",
       "    }\n",
       "\n",
       "    .dataframe tbody tr th {\n",
       "        vertical-align: top;\n",
       "    }\n",
       "\n",
       "    .dataframe thead th {\n",
       "        text-align: right;\n",
       "    }\n",
       "</style>\n",
       "<table border=\"1\" class=\"dataframe\">\n",
       "  <thead>\n",
       "    <tr style=\"text-align: right;\">\n",
       "      <th></th>\n",
       "      <th>Mean</th>\n",
       "      <th>Q1</th>\n",
       "      <th>Q2</th>\n",
       "      <th>Q3</th>\n",
       "      <th>Min</th>\n",
       "      <th>Max</th>\n",
       "    </tr>\n",
       "    <tr>\n",
       "      <th>No</th>\n",
       "      <th></th>\n",
       "      <th></th>\n",
       "      <th></th>\n",
       "      <th></th>\n",
       "      <th></th>\n",
       "      <th></th>\n",
       "    </tr>\n",
       "  </thead>\n",
       "  <tbody>\n",
       "    <tr>\n",
       "      <th>1</th>\n",
       "      <td>30.666667</td>\n",
       "      <td>19.0</td>\n",
       "      <td>22.0</td>\n",
       "      <td>45.0</td>\n",
       "      <td>10.0</td>\n",
       "      <td>67.0</td>\n",
       "    </tr>\n",
       "  </tbody>\n",
       "</table>\n",
       "</div>"
      ],
      "text/plain": [
       "         Mean    Q1    Q2    Q3   Min   Max\n",
       "No                                         \n",
       "1   30.666667  19.0  22.0  45.0  10.0  67.0"
      ]
     },
     "execution_count": 20,
     "metadata": {},
     "output_type": "execute_result"
    }
   ],
   "source": [
    "#Membuat dictionary agar lebih mudah dijadikan tabel\n",
    "data5 = {\n",
    "    'No' : [1],\n",
    "    'Mean' : ageTemp.mean(),\n",
    "    'Q1' : ageTemp.quantile(0.25),\n",
    "    'Q2' : ageTemp.quantile(0.5),\n",
    "    'Q3' : ageTemp.quantile(0.75),\n",
    "    'Min' : ageTemp.min(),\n",
    "    'Max' : ageTemp.max()\n",
    "}\n",
    "# Membuat tabel\n",
    "tabel5 = pd.DataFrame(data5)\n",
    "tabel5.set_index('No')"
   ]
  },
  {
   "cell_type": "markdown",
   "id": "d3c15709",
   "metadata": {},
   "source": [
    "## 6. Apakah terdapat outlier pada data umur responden. (Definisi outlier : < Q1 – 1.5 IQR atau > Q3 + 1.5 IQR; IQR = Q3 – Q1)"
   ]
  },
  {
   "cell_type": "code",
   "execution_count": 21,
   "id": "8dbcf7fb",
   "metadata": {},
   "outputs": [
    {
     "data": {
      "text/plain": [
       "Series([], Name: Usia, dtype: float64)"
      ]
     },
     "execution_count": 21,
     "metadata": {},
     "output_type": "execute_result"
    }
   ],
   "source": [
    "#Inisialisasi IQR, outlier 1 dan 2\n",
    "IQR = ageTemp.quantile(0.75) - ageTemp.quantile(0.25)\n",
    "outlier1 = ageTemp.quantile(0.25) - 1.5 * IQR\n",
    "outlier2 = ageTemp.quantile(0.75) + 1.5 * IQR\n",
    "\n",
    "#Mencari outlier 1 dan 2\n",
    "tableOutlier1 = ageTemp[ageTemp < outlier1]\n",
    "tableOutlier2 = ageTemp[ageTemp > outlier2]\n",
    "dataOutlier = pd.concat([tableOutlier1, tableOutlier2])\n",
    "dataOutlier    # Jawabannya tidak ada"
   ]
  },
  {
   "cell_type": "markdown",
   "id": "ab373545",
   "metadata": {},
   "source": [
    "## 7. Buat bar chart / pie chart/ donut chart yang menunjukkan perbedaan frekuensi / proporsi profesi responden"
   ]
  },
  {
   "cell_type": "code",
   "execution_count": 22,
   "id": "9ab8e480",
   "metadata": {},
   "outputs": [
    {
     "data": {
      "image/png": "[encoded data removed]",
      "text/plain": [
       "<Figure size 576x432 with 1 Axes>"
      ]
     },
     "metadata": {
      "needs_background": "light"
     },
     "output_type": "display_data"
    }
   ],
   "source": [
    "#Mengelompokkan data berdasarkan pekerjaan\n",
    "jobs = df.groupby(['Pekerjaan']).count()\n",
    "\n",
    "#Plotting bar chart\n",
    "palette7 = sns.color_palette(\"YlOrBr\", 16).as_hex()   #Mengembalikan code warna agar visualisasi bar tampak bagus\n",
    "fig, ax = plt.subplots()\n",
    "bars = plt.barh(jobs.index, jobs['Jenis Kelamin'], color = palette7)\n",
    "fig.set(\n",
    "    figwidth = 8,\n",
    "    figheight = 6\n",
    ")\n",
    "plt.bar_label(bars)\n",
    "ax.set(\n",
    "    xlabel = 'Jumlah',\n",
    "    ylabel = 'Profesi',\n",
    "    title = 'Frekuensi Profesi Responden'\n",
    ")\n",
    "plt.show()"
   ]
  },
  {
   "cell_type": "markdown",
   "id": "d669b4a7",
   "metadata": {},
   "source": [
    "## 8. Buat tabel frekuensi dan proporsi untuk profesi responden"
   ]
  },
  {
   "cell_type": "code",
   "execution_count": 23,
   "id": "a2804552",
   "metadata": {},
   "outputs": [
    {
     "data": {
      "text/html": [
       "<div>\n",
       "<style scoped>\n",
       "    .dataframe tbody tr th:only-of-type {\n",
       "        vertical-align: middle;\n",
       "    }\n",
       "\n",
       "    .dataframe tbody tr th {\n",
       "        vertical-align: top;\n",
       "    }\n",
       "\n",
       "    .dataframe thead th {\n",
       "        text-align: right;\n",
       "    }\n",
       "</style>\n",
       "<table border=\"1\" class=\"dataframe\">\n",
       "  <thead>\n",
       "    <tr style=\"text-align: right;\">\n",
       "      <th></th>\n",
       "      <th>Frekuensi</th>\n",
       "      <th>Proporsi</th>\n",
       "    </tr>\n",
       "    <tr>\n",
       "      <th>Pekerjaan</th>\n",
       "      <th></th>\n",
       "      <th></th>\n",
       "    </tr>\n",
       "  </thead>\n",
       "  <tbody>\n",
       "    <tr>\n",
       "      <th>BUMN</th>\n",
       "      <td>1</td>\n",
       "      <td>0.003333</td>\n",
       "    </tr>\n",
       "    <tr>\n",
       "      <th>Fresh graduate</th>\n",
       "      <td>1</td>\n",
       "      <td>0.003333</td>\n",
       "    </tr>\n",
       "    <tr>\n",
       "      <th>Ibu Rumah Tangga</th>\n",
       "      <td>28</td>\n",
       "      <td>0.093333</td>\n",
       "    </tr>\n",
       "    <tr>\n",
       "      <th>Ikut bisnis kecil2an</th>\n",
       "      <td>1</td>\n",
       "      <td>0.003333</td>\n",
       "    </tr>\n",
       "    <tr>\n",
       "      <th>Karyawan BUMD</th>\n",
       "      <td>2</td>\n",
       "      <td>0.006667</td>\n",
       "    </tr>\n",
       "    <tr>\n",
       "      <th>Karyawan Swasta</th>\n",
       "      <td>78</td>\n",
       "      <td>0.260000</td>\n",
       "    </tr>\n",
       "    <tr>\n",
       "      <th>Lembaga Musyawarah Kelurahan</th>\n",
       "      <td>1</td>\n",
       "      <td>0.003333</td>\n",
       "    </tr>\n",
       "    <tr>\n",
       "      <th>Pegawai Negeri</th>\n",
       "      <td>11</td>\n",
       "      <td>0.036667</td>\n",
       "    </tr>\n",
       "    <tr>\n",
       "      <th>Pelajar / Mahasiswa</th>\n",
       "      <td>146</td>\n",
       "      <td>0.486667</td>\n",
       "    </tr>\n",
       "    <tr>\n",
       "      <th>Pengangguran</th>\n",
       "      <td>1</td>\n",
       "      <td>0.003333</td>\n",
       "    </tr>\n",
       "    <tr>\n",
       "      <th>Pengusaha</th>\n",
       "      <td>11</td>\n",
       "      <td>0.036667</td>\n",
       "    </tr>\n",
       "    <tr>\n",
       "      <th>Pensiunan kary swasta</th>\n",
       "      <td>1</td>\n",
       "      <td>0.003333</td>\n",
       "    </tr>\n",
       "    <tr>\n",
       "      <th>Photographer</th>\n",
       "      <td>1</td>\n",
       "      <td>0.003333</td>\n",
       "    </tr>\n",
       "    <tr>\n",
       "      <th>Profesional ( Dokter, Dosen, Pengacara, dll)</th>\n",
       "      <td>13</td>\n",
       "      <td>0.043333</td>\n",
       "    </tr>\n",
       "    <tr>\n",
       "      <th>TNI</th>\n",
       "      <td>1</td>\n",
       "      <td>0.003333</td>\n",
       "    </tr>\n",
       "    <tr>\n",
       "      <th>Wiraswasta</th>\n",
       "      <td>2</td>\n",
       "      <td>0.006667</td>\n",
       "    </tr>\n",
       "    <tr>\n",
       "      <th>magang</th>\n",
       "      <td>1</td>\n",
       "      <td>0.003333</td>\n",
       "    </tr>\n",
       "  </tbody>\n",
       "</table>\n",
       "</div>"
      ],
      "text/plain": [
       "                                              Frekuensi  Proporsi\n",
       "Pekerjaan                                                        \n",
       "BUMN                                                  1  0.003333\n",
       "Fresh graduate                                        1  0.003333\n",
       "Ibu Rumah Tangga                                     28  0.093333\n",
       "Ikut bisnis kecil2an                                  1  0.003333\n",
       "Karyawan BUMD                                         2  0.006667\n",
       "Karyawan Swasta                                      78  0.260000\n",
       "Lembaga Musyawarah Kelurahan                          1  0.003333\n",
       "Pegawai Negeri                                       11  0.036667\n",
       "Pelajar / Mahasiswa                                 146  0.486667\n",
       "Pengangguran                                          1  0.003333\n",
       "Pengusaha                                            11  0.036667\n",
       "Pensiunan kary swasta                                 1  0.003333\n",
       "Photographer                                          1  0.003333\n",
       "Profesional ( Dokter, Dosen, Pengacara, dll)         13  0.043333\n",
       "TNI                                                   1  0.003333\n",
       "Wiraswasta                                            2  0.006667\n",
       "magang                                                1  0.003333"
      ]
     },
     "execution_count": 23,
     "metadata": {},
     "output_type": "execute_result"
    }
   ],
   "source": [
    "#Inisialisasi jobs sebagai tabel yang dikelompokkan berdasarkan profesi\n",
    "jobs = df.groupby(['Pekerjaan']).count()\n",
    "jobs.rename(columns = {'Jenis Kelamin':'Frekuensi'}, inplace = True)\n",
    "\n",
    "#Membuat column proporsi yaitu frekuensi/jumlah sampel, dengan jumlah sampel valid = 300\n",
    "copyFrek = pd.DataFrame(jobs.Frekuensi)\n",
    "copyFrek.rename(columns = {'Frekuensi':'Proporsi'}, inplace = True)\n",
    "jobs = pd.concat((jobs, copyFrek), axis = 1)\n",
    "jobs['Proporsi'] = jobs['Proporsi'].apply(lambda x: x/300)\n",
    "jobs[['Frekuensi', 'Proporsi']]"
   ]
  },
  {
   "cell_type": "markdown",
   "id": "8acaf060",
   "metadata": {},
   "source": [
    "## 9. Buat bar chart / pie chart/ donut chart yang menunjukkan perbedaan frekuensi / proporsi untuk apakah aktivitas online responden meningkat atau tidak dalam 3 bulan terakhir."
   ]
  },
  {
   "cell_type": "code",
   "execution_count": 24,
   "id": "8b687399",
   "metadata": {},
   "outputs": [
    {
     "data": {
      "image/png": "[encoded data removed]",
      "text/plain": [
       "<Figure size 360x360 with 1 Axes>"
      ]
     },
     "metadata": {},
     "output_type": "display_data"
    }
   ],
   "source": [
    "#Membuat tabel yang dikelompokkan berdasarkan aktivitas online meningkat\n",
    "onlineAct = df.groupby(\"Aktivitas Online Meningkat\").count()\n",
    "\n",
    "#Plotting pie chart\n",
    "fig, ax = plt.subplots()\n",
    "palette9 = sns.color_palette(\"YlOrBr\", 3).as_hex()\n",
    "pies = plt.pie(onlineAct['Jenis Kelamin'],\n",
    "        explode = [0, 0.1, 0], \n",
    "        autopct='%1.1f%%', \n",
    "        shadow= True, \n",
    "        startangle=90, \n",
    "        textprops={'fontsize': 14, 'weight' : 'light', 'family' : 'sans-serif'},\n",
    "        labels = onlineAct.index,\n",
    "        wedgeprops = { 'linewidth' : 1, 'edgecolor' : \"black\" },\n",
    "        colors = palette9)\n",
    "\n",
    "fig.set(\n",
    "    figwidth = 5,\n",
    "    figheight = 5\n",
    ")\n",
    "\n",
    "ax.set(\n",
    "    xlabel = 'Jumlah Responden : 300 orang',\n",
    "    title = 'Frekuensi Aktivitas Online Responden dalam 3 Bulan Terakhir'\n",
    ")\n",
    " \n",
    "plt.show()"
   ]
  },
  {
   "cell_type": "markdown",
   "id": "d05ab14a",
   "metadata": {},
   "source": [
    "## 10. Buat tabel frekuensi dan proporsi untuk apakah aktivitas online responden meningkat atau tidak dalam 3 bulan terakhir."
   ]
  },
  {
   "cell_type": "code",
   "execution_count": 25,
   "id": "4a5bbd88",
   "metadata": {},
   "outputs": [
    {
     "data": {
      "text/html": [
       "<div>\n",
       "<style scoped>\n",
       "    .dataframe tbody tr th:only-of-type {\n",
       "        vertical-align: middle;\n",
       "    }\n",
       "\n",
       "    .dataframe tbody tr th {\n",
       "        vertical-align: top;\n",
       "    }\n",
       "\n",
       "    .dataframe thead th {\n",
       "        text-align: right;\n",
       "    }\n",
       "</style>\n",
       "<table border=\"1\" class=\"dataframe\">\n",
       "  <thead>\n",
       "    <tr style=\"text-align: right;\">\n",
       "      <th></th>\n",
       "      <th>Frekuensi</th>\n",
       "      <th>Proporsi</th>\n",
       "    </tr>\n",
       "    <tr>\n",
       "      <th>Aktivitas Online Meningkat</th>\n",
       "      <th></th>\n",
       "      <th></th>\n",
       "    </tr>\n",
       "  </thead>\n",
       "  <tbody>\n",
       "    <tr>\n",
       "      <th>Sama saja</th>\n",
       "      <td>109</td>\n",
       "      <td>0.363333</td>\n",
       "    </tr>\n",
       "    <tr>\n",
       "      <th>Tidak</th>\n",
       "      <td>45</td>\n",
       "      <td>0.150000</td>\n",
       "    </tr>\n",
       "    <tr>\n",
       "      <th>Ya</th>\n",
       "      <td>146</td>\n",
       "      <td>0.486667</td>\n",
       "    </tr>\n",
       "  </tbody>\n",
       "</table>\n",
       "</div>"
      ],
      "text/plain": [
       "                            Frekuensi  Proporsi\n",
       "Aktivitas Online Meningkat                     \n",
       "Sama saja                         109  0.363333\n",
       "Tidak                              45  0.150000\n",
       "Ya                                146  0.486667"
      ]
     },
     "execution_count": 25,
     "metadata": {},
     "output_type": "execute_result"
    }
   ],
   "source": [
    "#Mengubah nama kolom jenis kelamin menjadi frekuensi karena kolom jenis kelamin dapat merepresentasikan total responden\n",
    "onlineAct.rename(columns = {'Jenis Kelamin':'Frekuensi'}, inplace = True)\n",
    "\n",
    "#Membuat column proporsi yaitu frekuensi/jumlah sampel, dengan jumlah sampel valid = 300\n",
    "copyFrekOA = pd.DataFrame(onlineAct.Frekuensi)\n",
    "copyFrekOA.rename(columns = {'Frekuensi':'Proporsi'}, inplace = True)\n",
    "onlineAct = pd.concat((onlineAct, copyFrekOA), axis = 1)\n",
    "onlineAct['Proporsi'] = onlineAct['Proporsi'].apply(lambda x: x/300)\n",
    "onlineAct[['Frekuensi', 'Proporsi']]"
   ]
  },
  {
   "cell_type": "markdown",
   "id": "08025d59",
   "metadata": {},
   "source": [
    "## 11. Buat bar chart yang perbandingan frekuensi/proporsi pengguna 7 bank yang ada di kolom bank_1 sampai bank_7"
   ]
  },
  {
   "cell_type": "code",
   "execution_count": 26,
   "id": "13d46fe0",
   "metadata": {},
   "outputs": [
    {
     "data": {
      "image/png": "[encoded data removed]",
      "text/plain": [
       "<Figure size 576x360 with 1 Axes>"
      ]
     },
     "metadata": {
      "needs_background": "light"
     },
     "output_type": "display_data"
    }
   ],
   "source": [
    "#Membuat dataframe yang berisikan kolom pengguna 7 bank\n",
    "df11 = df.groupby('Jenis Kelamin').count()\n",
    "data11 = df11.iloc[:, 14:21].sum()\n",
    "\n",
    "#Plotting bar chart\n",
    "fig,ax = plt.subplots()\n",
    "bars = plt.bar(data11.index, data11, color = ['#be254a', '#dc484c', '#ef6645', '#f88c51', '#fdb365', '#fed27f', '#feeb9d'])\n",
    "plt.bar_label(bars)\n",
    "plt.legend(bars[:], [\"Bank BNI\", \"Bank Mandiri\", \"Bank BCA\", \" Bank CIMB Niaga\", \"Bank BRI\", \"Bank BTN\", \"Bank Permata\"])\n",
    "ax.set(\n",
    "    xlabel = 'Nama Bank',\n",
    "    ylabel = 'Jumlah',\n",
    "    title ='Perbandingan frekuensi 7 bank'\n",
    ")\n",
    "fig.set(\n",
    "    figwidth = 8,\n",
    "    figheight = 5\n",
    ")\n",
    "plt.show()"
   ]
  },
  {
   "cell_type": "markdown",
   "id": "9f79d3a9",
   "metadata": {},
   "source": [
    "## 12. Buat tabel frekuensi dan proporsi pengguna 7 bank yang ada di kolom bank_1 sampai bank_7."
   ]
  },
  {
   "cell_type": "code",
   "execution_count": 27,
   "id": "52afa5a3",
   "metadata": {},
   "outputs": [
    {
     "data": {
      "text/html": [
       "<div>\n",
       "<style scoped>\n",
       "    .dataframe tbody tr th:only-of-type {\n",
       "        vertical-align: middle;\n",
       "    }\n",
       "\n",
       "    .dataframe tbody tr th {\n",
       "        vertical-align: top;\n",
       "    }\n",
       "\n",
       "    .dataframe thead th {\n",
       "        text-align: right;\n",
       "    }\n",
       "</style>\n",
       "<table border=\"1\" class=\"dataframe\">\n",
       "  <thead>\n",
       "    <tr style=\"text-align: right;\">\n",
       "      <th></th>\n",
       "      <th>Frekuensi</th>\n",
       "      <th>Proporsi</th>\n",
       "    </tr>\n",
       "  </thead>\n",
       "  <tbody>\n",
       "    <tr>\n",
       "      <th>bank_1</th>\n",
       "      <td>71</td>\n",
       "      <td>0.236667</td>\n",
       "    </tr>\n",
       "    <tr>\n",
       "      <th>bank_2</th>\n",
       "      <td>91</td>\n",
       "      <td>0.303333</td>\n",
       "    </tr>\n",
       "    <tr>\n",
       "      <th>bank_3</th>\n",
       "      <td>167</td>\n",
       "      <td>0.556667</td>\n",
       "    </tr>\n",
       "    <tr>\n",
       "      <th>bank_4</th>\n",
       "      <td>21</td>\n",
       "      <td>0.070000</td>\n",
       "    </tr>\n",
       "    <tr>\n",
       "      <th>bank_5</th>\n",
       "      <td>56</td>\n",
       "      <td>0.186667</td>\n",
       "    </tr>\n",
       "    <tr>\n",
       "      <th>bank_6</th>\n",
       "      <td>6</td>\n",
       "      <td>0.020000</td>\n",
       "    </tr>\n",
       "    <tr>\n",
       "      <th>bank_7</th>\n",
       "      <td>6</td>\n",
       "      <td>0.020000</td>\n",
       "    </tr>\n",
       "  </tbody>\n",
       "</table>\n",
       "</div>"
      ],
      "text/plain": [
       "        Frekuensi  Proporsi\n",
       "bank_1         71  0.236667\n",
       "bank_2         91  0.303333\n",
       "bank_3        167  0.556667\n",
       "bank_4         21  0.070000\n",
       "bank_5         56  0.186667\n",
       "bank_6          6  0.020000\n",
       "bank_7          6  0.020000"
      ]
     },
     "execution_count": 27,
     "metadata": {},
     "output_type": "execute_result"
    }
   ],
   "source": [
    "#Membuat kolom frekuensi berdasarkan jenis kelamin karena data jenis kelamin dapat memrepresentasikan frekuensi \n",
    "df12 = pd.DataFrame(data11)\n",
    "df12.columns = ['Frekuensi']\n",
    "copyFrek12 = pd.DataFrame(df12.Frekuensi)\n",
    "\n",
    "#Membuat kolom proporsi yaitu frekuensi/jumlah sampel, dengan jumlah sampel valid = 300\n",
    "copyFrek12.rename(columns = {'Frekuensi':'Proporsi'}, inplace = True)\n",
    "df12 = pd.concat((df12, copyFrek12), axis = 1)\n",
    "df12['Proporsi'] = df12['Proporsi'].apply(lambda x: x/300)\n",
    "df12[['Frekuensi', 'Proporsi']]"
   ]
  },
  {
   "cell_type": "markdown",
   "id": "5a966a02",
   "metadata": {},
   "source": [
    "## 13. Hitung confidence interval 95% untuk proporsi pengguna Bank BCA:\n",
    "## ... < $P_{BCA}$ < ..."
   ]
  },
  {
   "cell_type": "code",
   "execution_count": 28,
   "id": "fef1f575",
   "metadata": {},
   "outputs": [
    {
     "name": "stdout",
     "output_type": "stream",
     "text": [
      "0.5004520333566871  < pBCA <  0.6128812999766462\n"
     ]
    }
   ],
   "source": [
    "#Menentukan proporsi BCA dengan jumlah sampel = 300\n",
    "n = 300\n",
    "pBCA = 167/n\n",
    "\n",
    "# Confidence Interval for Proportion :\n",
    "   #confidence interval 95% = pBCA +- Z(a/2)*sqrt((pBCA*(1-pBCA)/n)\n",
    "   #Z(a/2) = Z(0.05/2) = 1.95996\n",
    "ci1 = pBCA - 1.95996*((pBCA*(1-pBCA)/n)**(0.5))\n",
    "ci2 = pBCA + 1.95996*((pBCA*(1-pBCA)/n)**(0.5))\n",
    "print(ci1, \" < pBCA < \", ci2)"
   ]
  },
  {
   "cell_type": "markdown",
   "id": "8213f6fa",
   "metadata": {},
   "source": [
    "## 14. Lakukan Uji Hipotesis \n",
    "## $H_0 : P_{BCA} = 0.5$ \n",
    "## $H_1 : P_{BCA} ≠ 0.5$\n",
    "## $\\alpha = 5\\%$"
   ]
  },
  {
   "cell_type": "code",
   "execution_count": 47,
   "id": "7203ae42",
   "metadata": {},
   "outputs": [
    {
     "name": "stdout",
     "output_type": "stream",
     "text": [
      "Karena Zuji (= 1.9629909152447274 ) berada di daerah Zkritis (= 1.95996). Maka tolak H0 dengan signifikasi 5%\n"
     ]
    }
   ],
   "source": [
    "# Menentukan Daerah Kritis\n",
    "    # Untuk uji dua sisi, maka\n",
    "    # Z > Z(a/2) atau Z < Z(a/2)\n",
    "    # Z > z(0.025) atau Z < - z(0.025)\n",
    "    # Sehingga Zkritis > 1.95996 atau Zkritis < -1.95996\n",
    "\n",
    "#Tentukan statistik uji\n",
    "    # Zuji = n * (Psampel - Ppopulasi)/sqrt(Ppopulasi(1-Ppopulasi))\n",
    "Zuji = (pBCA * n - 0.5 * n) / ( (0.5*n*0.5 )**(0.5))\n",
    "    # Zuji = 1.9629909152447274\n",
    "    \n",
    "print(\"Karena Zuji (=\", Zuji, \") berada di daerah Zkritis (= 1.95996). Maka tolak H0 dengan signifikasi 5%\")"
   ]
  },
  {
   "cell_type": "markdown",
   "id": "55c8ef8a",
   "metadata": {},
   "source": [
    "## 15. Buat bar chart yang menunjukkan perbedaan frekuensi / proporsi untuk preferensi channel yang dipilih responden untuk melakukan “Transfer antar bank”"
   ]
  },
  {
   "cell_type": "code",
   "execution_count": 30,
   "id": "64e48b39",
   "metadata": {},
   "outputs": [
    {
     "data": {
      "image/png": "[encoded data removed]",
      "text/plain": [
       "<Figure size 576x360 with 1 Axes>"
      ]
     },
     "metadata": {
      "needs_background": "light"
     },
     "output_type": "display_data"
    }
   ],
   "source": [
    "#Mengelompokkan data berdasarkan \"Transfer antar bank\"\n",
    "bankTransfer = df.groupby(\"19. Manakah channel/ layanan yang lebih Anda sukai ketika Anda akan menggunakan fitur-fitur layanan perbankan berikut? [Transfer antar bank]\").count()\n",
    "\n",
    "#Plotting barchart\n",
    "fig,ax = plt.subplots()\n",
    "palette9 = sns.color_palette(\"YlOrBr\", 3).as_hex()\n",
    "bars = plt.bar(bankTransfer.index, bankTransfer['Jenis Kelamin'], color = ['#be254a', '#dc484c', '#ef6645', '#f88c51'])\n",
    "plt.bar_label(bars)\n",
    "plt.xticks(rotation = 10) \n",
    "fig.set_figwidth(8)\n",
    "fig.set_figheight(5)\n",
    "plt.show()"
   ]
  },
  {
   "cell_type": "markdown",
   "id": "9249bf8d",
   "metadata": {},
   "source": [
    "## 16. Buat tabel frekuensi dan proporsi untuk preferensi channel yang dipilih responden untuk melakukan “Transfer antar bank”"
   ]
  },
  {
   "cell_type": "code",
   "execution_count": 31,
   "id": "6c00d608",
   "metadata": {},
   "outputs": [
    {
     "data": {
      "text/html": [
       "<div>\n",
       "<style scoped>\n",
       "    .dataframe tbody tr th:only-of-type {\n",
       "        vertical-align: middle;\n",
       "    }\n",
       "\n",
       "    .dataframe tbody tr th {\n",
       "        vertical-align: top;\n",
       "    }\n",
       "\n",
       "    .dataframe thead th {\n",
       "        text-align: right;\n",
       "    }\n",
       "</style>\n",
       "<table border=\"1\" class=\"dataframe\">\n",
       "  <thead>\n",
       "    <tr style=\"text-align: right;\">\n",
       "      <th></th>\n",
       "      <th>Frekuensi</th>\n",
       "      <th>Proporsi</th>\n",
       "    </tr>\n",
       "    <tr>\n",
       "      <th>Channel untuk transfer antar bank</th>\n",
       "      <th></th>\n",
       "      <th></th>\n",
       "    </tr>\n",
       "  </thead>\n",
       "  <tbody>\n",
       "    <tr>\n",
       "      <th>ATM</th>\n",
       "      <td>18</td>\n",
       "      <td>0.071146</td>\n",
       "    </tr>\n",
       "    <tr>\n",
       "      <th>Datang ke cabang bank</th>\n",
       "      <td>2</td>\n",
       "      <td>0.007905</td>\n",
       "    </tr>\n",
       "    <tr>\n",
       "      <th>Internet Banking</th>\n",
       "      <td>16</td>\n",
       "      <td>0.063241</td>\n",
       "    </tr>\n",
       "    <tr>\n",
       "      <th>Mobile Banking</th>\n",
       "      <td>217</td>\n",
       "      <td>0.857708</td>\n",
       "    </tr>\n",
       "  </tbody>\n",
       "</table>\n",
       "</div>"
      ],
      "text/plain": [
       "                                   Frekuensi  Proporsi\n",
       "Channel untuk transfer antar bank                     \n",
       "ATM                                       18  0.071146\n",
       "Datang ke cabang bank                      2  0.007905\n",
       "Internet Banking                          16  0.063241\n",
       "Mobile Banking                           217  0.857708"
      ]
     },
     "execution_count": 31,
     "metadata": {},
     "output_type": "execute_result"
    }
   ],
   "source": [
    "#Membuat kolom frekuensi berdasarkan jenis kelamin karena data jenis kelamin dapat memrepresentasikan frekuensi \n",
    "bankTransfer.rename(columns = {'Jenis Kelamin':'Frekuensi', 'Usia' : 'Proporsi'}, inplace = True)\n",
    "bankTransfer.index.rename(\"Channel untuk transfer antar bank\", inplace = True)\n",
    "\n",
    "#Membuat kolom proporsi yaitu frekuensi/jumlah responden\n",
    "bankTransfer.Proporsi = bankTransfer.Proporsi.apply(lambda x: x/bankTransfer.Frekuensi.sum())\n",
    "bankTransfer[['Frekuensi', 'Proporsi']]"
   ]
  },
  {
   "cell_type": "markdown",
   "id": "d65330bb",
   "metadata": {},
   "source": [
    "## 17. Buat bar chart yang perbandingan frekuensi/proporsi pengguna 7 emoney yang ada di kolom emoney_pilihan_1 sampai emoney_pilihan_7 (8 – 11 tidak usah)"
   ]
  },
  {
   "cell_type": "code",
   "execution_count": 32,
   "id": "cb8c208f",
   "metadata": {},
   "outputs": [
    {
     "data": {
      "image/png": "[encoded data removed]",
      "text/plain": [
       "<Figure size 576x360 with 1 Axes>"
      ]
     },
     "metadata": {
      "needs_background": "light"
     },
     "output_type": "display_data"
    }
   ],
   "source": [
    "#Membuat dataframe yang berisikan kolom pengguna 7 emoney\n",
    "df17 = df.groupby('Jenis Kelamin').count()\n",
    "data17 = df17.iloc[:, 36:43].sum()\n",
    "\n",
    "#Plotting barchart\n",
    "fig,ax = plt.subplots()\n",
    "bars = plt.bar(data17.index, data17, color = ['#be254a', '#dc484c', '#ef6645', '#f88c51', '#fdb365', '#fed27f', '#feeb9d'])\n",
    "plt.bar_label(bars)\n",
    "plt.legend(bars[:], [\"GoPay\", \"ShopeePay\", \"OVO\", \"DANA\", \"eMoney Mandiri\", \"FLAZZ BCA\", \"LinkAja\"])\n",
    "ax.set(\n",
    "    xlabel = 'Nama E-Money',\n",
    "    ylabel = 'Jumlah',\n",
    "    title ='Frekuensi Penggunaan E-Money'\n",
    ")\n",
    "plt.xticks(rotation = 15) \n",
    "fig.set(\n",
    "    figwidth = 8,\n",
    "    figheight = 5\n",
    ")\n",
    "plt.show()"
   ]
  },
  {
   "cell_type": "markdown",
   "id": "d67c7738",
   "metadata": {},
   "source": [
    "## 18. Buat tabel frekuensi dan proporsi pengguna 7 emoney yang ada di kolom emoney_pilihan_1 sampai emoney_pilihan_7 (8 – 11 tidak usah)"
   ]
  },
  {
   "cell_type": "code",
   "execution_count": 33,
   "id": "c2efe60d",
   "metadata": {},
   "outputs": [
    {
     "data": {
      "text/html": [
       "<div>\n",
       "<style scoped>\n",
       "    .dataframe tbody tr th:only-of-type {\n",
       "        vertical-align: middle;\n",
       "    }\n",
       "\n",
       "    .dataframe tbody tr th {\n",
       "        vertical-align: top;\n",
       "    }\n",
       "\n",
       "    .dataframe thead th {\n",
       "        text-align: right;\n",
       "    }\n",
       "</style>\n",
       "<table border=\"1\" class=\"dataframe\">\n",
       "  <thead>\n",
       "    <tr style=\"text-align: right;\">\n",
       "      <th></th>\n",
       "      <th>Frekuensi</th>\n",
       "      <th>Proporsi</th>\n",
       "    </tr>\n",
       "  </thead>\n",
       "  <tbody>\n",
       "    <tr>\n",
       "      <th>emoney_pilihan_1</th>\n",
       "      <td>214</td>\n",
       "      <td>0.713333</td>\n",
       "    </tr>\n",
       "    <tr>\n",
       "      <th>emoney_pilihan_2</th>\n",
       "      <td>151</td>\n",
       "      <td>0.503333</td>\n",
       "    </tr>\n",
       "    <tr>\n",
       "      <th>emoney_pilihan_3</th>\n",
       "      <td>147</td>\n",
       "      <td>0.490000</td>\n",
       "    </tr>\n",
       "    <tr>\n",
       "      <th>emoney_pilihan_4</th>\n",
       "      <td>92</td>\n",
       "      <td>0.306667</td>\n",
       "    </tr>\n",
       "    <tr>\n",
       "      <th>emoney_pilihan_5</th>\n",
       "      <td>85</td>\n",
       "      <td>0.283333</td>\n",
       "    </tr>\n",
       "    <tr>\n",
       "      <th>emoney_pilihan_6</th>\n",
       "      <td>70</td>\n",
       "      <td>0.233333</td>\n",
       "    </tr>\n",
       "    <tr>\n",
       "      <th>emoney_pilihan_7</th>\n",
       "      <td>32</td>\n",
       "      <td>0.106667</td>\n",
       "    </tr>\n",
       "  </tbody>\n",
       "</table>\n",
       "</div>"
      ],
      "text/plain": [
       "                  Frekuensi  Proporsi\n",
       "emoney_pilihan_1        214  0.713333\n",
       "emoney_pilihan_2        151  0.503333\n",
       "emoney_pilihan_3        147  0.490000\n",
       "emoney_pilihan_4         92  0.306667\n",
       "emoney_pilihan_5         85  0.283333\n",
       "emoney_pilihan_6         70  0.233333\n",
       "emoney_pilihan_7         32  0.106667"
      ]
     },
     "execution_count": 33,
     "metadata": {},
     "output_type": "execute_result"
    }
   ],
   "source": [
    "#Membuat kolom frekuensi\n",
    "df18 = pd.DataFrame(data17)\n",
    "df18.columns = ['Frekuensi']\n",
    "\n",
    "#Membuat kolom proporsi yaitu frekuensi/jumlah sampel, dengan jumlah sampel valid = 300\n",
    "copyFrek18 = pd.DataFrame(df18.Frekuensi)\n",
    "copyFrek18.rename(columns = {'Frekuensi':'Proporsi'}, inplace = True)\n",
    "df18 = pd.concat((df18, copyFrek18), axis = 1)\n",
    "df18['Proporsi'] = df18['Proporsi'].apply(lambda x: x/300)\n",
    "df18[['Frekuensi', 'Proporsi']]"
   ]
  },
  {
   "cell_type": "markdown",
   "id": "cf65bf2f",
   "metadata": {},
   "source": [
    "## 19. Hitung confidence interval 95% untuk selisih proporsi pengguna Gopay dan OVO\n",
    "## ... < $P_{GoPay} − P_{OVO}$ < ..."
   ]
  },
  {
   "cell_type": "code",
   "execution_count": 34,
   "id": "2d4eed4e",
   "metadata": {},
   "outputs": [
    {
     "name": "stdout",
     "output_type": "stream",
     "text": [
      "0.1470551339990369 < 𝑃𝐺𝑜𝑃𝑎𝑦−𝑃ovo < 0.29961153266762985\n"
     ]
    }
   ],
   "source": [
    "#Rumus proporsi ganda : \n",
    "#(p1 - p2) - Z(a/2)*sqrt( (p1*q1)/n1 + (p2*q2)/n2 ) < P1 - P2 < (p1 - p2) + Z(a/2)*sqrt( (p1*q1)/n1 + (p2*q2)/n2 )\n",
    "# dengan a = 0.05 dan Z(a/2) = 1.95996\n",
    "\n",
    "#Menentukan jumlah responden dan proporsi gopay, ovo\n",
    "n = 300\n",
    "pGopay = 214/n\n",
    "pOvo = 147/n\n",
    "\n",
    "#Menghitung confidence interval\n",
    "ci1 = (pGopay - pOvo) - 1.95996*( (pGopay*(1-pGopay))/n + (pOvo*(1-pOvo))/n)**(0.5)\n",
    "ci2 = (pGopay - pOvo) + 1.95996*( (pGopay*(1-pGopay))/n + (pOvo*(1-pOvo))/n)**(0.5)\n",
    "print(ci1, \"< 𝑃𝐺𝑜𝑃𝑎𝑦−𝑃ovo <\", ci2)"
   ]
  },
  {
   "cell_type": "markdown",
   "id": "2cc141d6",
   "metadata": {},
   "source": [
    "## 20. Lakukan uji hipotesis berikut:\n",
    "## $H_0 : P_{GoPay} = P_{OVO}$ \n",
    "## $H_1 : P_{GoPay} > P_{OVO}$\n",
    "## $\\alpha = 5\\%$"
   ]
  },
  {
   "cell_type": "code",
   "execution_count": 46,
   "id": "0eebe261",
   "metadata": {},
   "outputs": [
    {
     "name": "stdout",
     "output_type": "stream",
     "text": [
      "Karena Zuji (= 5.587247070367848 ) berada di Zkritis (= 1.95996). Maka tolak H0 dengan signifikasi 5%\n"
     ]
    }
   ],
   "source": [
    "# Menentukan H0 : Pgopay - Povo = 0\n",
    "# Menentukan H1 : Pgopay - Povo > 0\n",
    "\n",
    "# Menentukan Daerah Kritis\n",
    "    # Untuk uji satu sisi, maka\n",
    "    # Z > Z(a/2) \n",
    "    # Z > z(0.025) \n",
    "    # Sehingga Zkritis > 1.95996\n",
    "    \n",
    "#Tentukan statistik uji\n",
    "    #Pgabungan = (x1 + x2)/(n1+n2)\n",
    "pGabungan = (214 + 147)/(2*300)\n",
    "    # Zuji = (p1 - p2)/sqrt(pGabungan*(1-pGabungan)*(1/n1 + 1/n2))\n",
    "Zuji = (pGopay - pOvo)/(pGabungan*(1-pGabungan)*(1/300 + 1/300))**(0.5)\n",
    "    # Zuji = 5.587247070367848\n",
    "    \n",
    "print(\"Karena Zuji (=\", Zuji, \") berada di Zkritis (= 1.95996). Maka tolak H0 dengan signifikasi 5%\")"
   ]
  },
  {
   "cell_type": "markdown",
   "id": "06fa9236",
   "metadata": {},
   "source": [
    "## 21. Buat bar chart / pie chart/ donut chart yang menunjukkan perbedaan frekuensi / proporsi untuk nominal yang biasa dipakai untuk top up emoney."
   ]
  },
  {
   "cell_type": "code",
   "execution_count": 36,
   "id": "7707f55e",
   "metadata": {},
   "outputs": [
    {
     "data": {
      "image/png": "[encoded data removed]",
      "text/plain": [
       "<Figure size 432x288 with 1 Axes>"
      ]
     },
     "metadata": {},
     "output_type": "display_data"
    }
   ],
   "source": [
    "#Mengelompokkan data berdasarkan kolom \"39. Berapa biasanya nominal Anda melakukan top up/ isi ulang?\"\n",
    "df21 = df.groupby(\"39. Berapa biasanya nominal Anda melakukan top up/ isi ulang?\").count()\n",
    "\n",
    "#colors\n",
    "palette21 = ['#feeb9d', '#dc484c', '#ef6645', '#f88c51', '#fdb365', '#fed27f']\n",
    "\n",
    "#explosion\n",
    "explode = (0.05, 0.05, 0.05, 0.05, 0.05, 0.05)\n",
    "  \n",
    "#plotting pie Chart\n",
    "fig, ax = plt.subplots()\n",
    "plt.pie(df21['Jenis Kelamin'], colors=palette21, labels = df21.index,\n",
    "        autopct='%1.1f%%', pctdistance=0.85,\n",
    "        explode=explode, shadow = True)\n",
    "plt.title(\"Proporsi Nominal Untuk Top Up eMoney\")\n",
    "plt.xlabel(f\"Jumlah responden : {df21.Usia.sum()} orang\")\n",
    "  \n",
    "#Membuat lingkaran\n",
    "centre_circle = plt.Circle((0, 0), 0.70, fc='white')\n",
    "fig = plt.gcf()\n",
    "  \n",
    "#Menambahkan lingkaran di pie chart agar terlihat seperti donut chart\n",
    "fig.gca().add_artist(centre_circle)\n",
    "\n",
    "plt.show()"
   ]
  },
  {
   "cell_type": "markdown",
   "id": "ad39a38f",
   "metadata": {},
   "source": [
    "## 22. Buat tabel frekuensi dan proporsi untuk nominal yang biasa dipakai untuk top up emoney"
   ]
  },
  {
   "cell_type": "code",
   "execution_count": 37,
   "id": "65b69638",
   "metadata": {},
   "outputs": [
    {
     "data": {
      "text/html": [
       "<div>\n",
       "<style scoped>\n",
       "    .dataframe tbody tr th:only-of-type {\n",
       "        vertical-align: middle;\n",
       "    }\n",
       "\n",
       "    .dataframe tbody tr th {\n",
       "        vertical-align: top;\n",
       "    }\n",
       "\n",
       "    .dataframe thead th {\n",
       "        text-align: right;\n",
       "    }\n",
       "</style>\n",
       "<table border=\"1\" class=\"dataframe\">\n",
       "  <thead>\n",
       "    <tr style=\"text-align: right;\">\n",
       "      <th></th>\n",
       "      <th>Frekuensi</th>\n",
       "      <th>Proporsi</th>\n",
       "    </tr>\n",
       "    <tr>\n",
       "      <th>39. Berapa biasanya nominal Anda melakukan top up/ isi ulang?</th>\n",
       "      <th></th>\n",
       "      <th></th>\n",
       "    </tr>\n",
       "  </thead>\n",
       "  <tbody>\n",
       "    <tr>\n",
       "      <th>&lt; Rp 25.000,-</th>\n",
       "      <td>5</td>\n",
       "      <td>0.018315</td>\n",
       "    </tr>\n",
       "    <tr>\n",
       "      <th>&gt; Rp 300.000</th>\n",
       "      <td>55</td>\n",
       "      <td>0.201465</td>\n",
       "    </tr>\n",
       "    <tr>\n",
       "      <th>Rp 100.001 – Rp 150.000</th>\n",
       "      <td>52</td>\n",
       "      <td>0.190476</td>\n",
       "    </tr>\n",
       "    <tr>\n",
       "      <th>Rp 150.001 – Rp 300.000</th>\n",
       "      <td>58</td>\n",
       "      <td>0.212454</td>\n",
       "    </tr>\n",
       "    <tr>\n",
       "      <th>Rp 25.000 – Rp 50.000,-</th>\n",
       "      <td>38</td>\n",
       "      <td>0.139194</td>\n",
       "    </tr>\n",
       "    <tr>\n",
       "      <th>Rp 50.001 – Rp 100.000</th>\n",
       "      <td>65</td>\n",
       "      <td>0.238095</td>\n",
       "    </tr>\n",
       "  </tbody>\n",
       "</table>\n",
       "</div>"
      ],
      "text/plain": [
       "                                                    Frekuensi  Proporsi\n",
       "39. Berapa biasanya nominal Anda melakukan top ...                     \n",
       "< Rp 25.000,-                                               5  0.018315\n",
       "> Rp 300.000                                               55  0.201465\n",
       "Rp 100.001 – Rp 150.000                                    52  0.190476\n",
       "Rp 150.001 – Rp 300.000                                    58  0.212454\n",
       "Rp 25.000 – Rp 50.000,-                                    38  0.139194\n",
       "Rp 50.001 – Rp 100.000                                     65  0.238095"
      ]
     },
     "execution_count": 37,
     "metadata": {},
     "output_type": "execute_result"
    }
   ],
   "source": [
    "df21.rename(columns = {'Jenis Kelamin':'Frekuensi'}, inplace = True)\n",
    "\n",
    "#Membuat column proporsi yaitu frekuensi/jumlah sampel\n",
    "df22 = pd.DataFrame(df21.Frekuensi)\n",
    "df22.rename(columns = {'Frekuensi':'Proporsi'}, inplace = True)\n",
    "df21 = pd.concat((df21, df22), axis = 1)\n",
    "df21['Proporsi'] = df21['Proporsi'].apply(lambda x: x/273)  #jumlah sampel yang valid ialah 273\n",
    "df21[['Frekuensi', 'Proporsi']]"
   ]
  },
  {
   "cell_type": "markdown",
   "id": "8b112267",
   "metadata": {},
   "source": [
    "## 23. Buat bar chart yang perbandingan frekuensi/proporsi pengguna 7 ecommerce yang ada di kolom ecommerce_pilihan_1 sampai ecommerce_pilihan_7 (8 – 12 tidak usah)"
   ]
  },
  {
   "cell_type": "code",
   "execution_count": 38,
   "id": "1c4f157f",
   "metadata": {},
   "outputs": [
    {
     "data": {
      "image/png": "[encoded data removed]",
      "text/plain": [
       "<Figure size 576x360 with 1 Axes>"
      ]
     },
     "metadata": {
      "needs_background": "light"
     },
     "output_type": "display_data"
    }
   ],
   "source": [
    "#Membuat dataframe yang berisikan kolom 7 pengguna ecommerce\n",
    "df23 = df.groupby('Jenis Kelamin').count()\n",
    "data23 = df23.iloc[:,115:122].sum()\n",
    "\n",
    "#Plotting barchart\n",
    "fig,ax = plt.subplots()\n",
    "bars = plt.bar(data23.index, data23, color = ['#feeb9d', '#fed27f', '#fdb365', '#f88c51', '#ef6645', '#dc484c', '#be254a'])\n",
    "plt.bar_label(bars)\n",
    "plt.legend(bars[:], [\"Shopee\", \"Gojek\", \"Tokopedia\", \"Grab\", \"Traveloka\", \"Lazada\", \"Tiket.com\"])\n",
    "ax.set(\n",
    "    xlabel = 'Nama E-Commerce',\n",
    "    ylabel = 'Jumlah',\n",
    "    title ='Frekuensi Pilihan E-Commerce'\n",
    ")\n",
    "plt.xticks(rotation = 15) \n",
    "fig.set(\n",
    "    figwidth = 8,\n",
    "    figheight = 5\n",
    ")\n",
    "plt.show()"
   ]
  },
  {
   "cell_type": "markdown",
   "id": "31e13b06",
   "metadata": {},
   "source": [
    "## 24. Buat tabel frekuensi dan proporsi pengguna 7 ecommerce yang ada di kolom ecommerce_pilihan_1 sampai ecommerce_pilihan_7 (8 – 12 tidak usah)"
   ]
  },
  {
   "cell_type": "code",
   "execution_count": 39,
   "id": "76c7d5e1",
   "metadata": {},
   "outputs": [
    {
     "data": {
      "text/html": [
       "<div>\n",
       "<style scoped>\n",
       "    .dataframe tbody tr th:only-of-type {\n",
       "        vertical-align: middle;\n",
       "    }\n",
       "\n",
       "    .dataframe tbody tr th {\n",
       "        vertical-align: top;\n",
       "    }\n",
       "\n",
       "    .dataframe thead th {\n",
       "        text-align: right;\n",
       "    }\n",
       "</style>\n",
       "<table border=\"1\" class=\"dataframe\">\n",
       "  <thead>\n",
       "    <tr style=\"text-align: right;\">\n",
       "      <th></th>\n",
       "      <th>Frekuensi</th>\n",
       "      <th>Proporsi</th>\n",
       "    </tr>\n",
       "  </thead>\n",
       "  <tbody>\n",
       "    <tr>\n",
       "      <th>ecommerce_pilihan_1</th>\n",
       "      <td>221</td>\n",
       "      <td>0.736667</td>\n",
       "    </tr>\n",
       "    <tr>\n",
       "      <th>ecommerce_pilihan_2</th>\n",
       "      <td>208</td>\n",
       "      <td>0.693333</td>\n",
       "    </tr>\n",
       "    <tr>\n",
       "      <th>ecommerce_pilihan_3</th>\n",
       "      <td>189</td>\n",
       "      <td>0.630000</td>\n",
       "    </tr>\n",
       "    <tr>\n",
       "      <th>ecommerce_pilihan_4</th>\n",
       "      <td>105</td>\n",
       "      <td>0.350000</td>\n",
       "    </tr>\n",
       "    <tr>\n",
       "      <th>ecommerce_pilihan_5</th>\n",
       "      <td>52</td>\n",
       "      <td>0.173333</td>\n",
       "    </tr>\n",
       "    <tr>\n",
       "      <th>ecommerce_pilihan_6</th>\n",
       "      <td>26</td>\n",
       "      <td>0.086667</td>\n",
       "    </tr>\n",
       "    <tr>\n",
       "      <th>ecommerce_pilihan_7</th>\n",
       "      <td>29</td>\n",
       "      <td>0.096667</td>\n",
       "    </tr>\n",
       "  </tbody>\n",
       "</table>\n",
       "</div>"
      ],
      "text/plain": [
       "                     Frekuensi  Proporsi\n",
       "ecommerce_pilihan_1        221  0.736667\n",
       "ecommerce_pilihan_2        208  0.693333\n",
       "ecommerce_pilihan_3        189  0.630000\n",
       "ecommerce_pilihan_4        105  0.350000\n",
       "ecommerce_pilihan_5         52  0.173333\n",
       "ecommerce_pilihan_6         26  0.086667\n",
       "ecommerce_pilihan_7         29  0.096667"
      ]
     },
     "execution_count": 39,
     "metadata": {},
     "output_type": "execute_result"
    }
   ],
   "source": [
    "#Membuat kolom frekuensi\n",
    "df24 = pd.DataFrame(data23)\n",
    "df24.columns = ['Frekuensi']\n",
    "\n",
    "#Membuat kolom proporsi yaitu frekuensi/jumlah sampel, jumlah sampel valid = 300\n",
    "copyFrek24 = pd.DataFrame(df24.Frekuensi)\n",
    "copyFrek24.rename(columns = {'Frekuensi':'Proporsi'}, inplace = True)\n",
    "df24 = pd.concat((df24, copyFrek24), axis = 1)\n",
    "df24['Proporsi'] = df24['Proporsi'].apply(lambda x: x/300)\n",
    "df24[['Frekuensi', 'Proporsi']]"
   ]
  },
  {
   "cell_type": "markdown",
   "id": "ddba6513",
   "metadata": {},
   "source": [
    "## 25. Buat bar chart / pie chart/ donut chart yang menunjukkan perbedaan frekuensi / proporsi untuk responden yang prefer beli handphone secara offline vs online"
   ]
  },
  {
   "cell_type": "code",
   "execution_count": 40,
   "id": "4cc830fa",
   "metadata": {},
   "outputs": [
    {
     "data": {
      "image/png": "[encoded data removed]",
      "text/plain": [
       "<Figure size 432x288 with 1 Axes>"
      ]
     },
     "metadata": {},
     "output_type": "display_data"
    }
   ],
   "source": [
    "#Mengeloompokkan data berdasarkan kolom preferensi membeli handphone offline/online\n",
    "df25 = df.groupby(\"47. Bagaimana kecenderungan Anda jika akan berbelanja hal-hal berikut? [handphone]\").count()\n",
    "\n",
    "#colors\n",
    "palette21 = ['#fdb365', '#f88c51']\n",
    "\n",
    "#explosion\n",
    "explode = (0.05, 0.05)\n",
    "  \n",
    "#Plotting piechart\n",
    "fig, ax = plt.subplots()\n",
    "plt.pie(df25['Jenis Kelamin'], colors=palette21, labels = df25.index,\n",
    "        autopct='%1.1f%%', pctdistance=0.85, shadow = True,\n",
    "        explode=explode)\n",
    "plt.title(\"Proporsi Metode Pembelian Handphone\")\n",
    "plt.xlabel(f\"Jumlah responden : {df25.Usia.sum()}\")\n",
    "  \n",
    "#Membuat lingkaran\n",
    "centre_circle = plt.Circle((0, 0), 0.70, fc='white')\n",
    "fig = plt.gcf()\n",
    "  \n",
    "#Menambahkan lingkaran pada piechart agar menjadi donutchart\n",
    "fig.gca().add_artist(centre_circle)\n",
    "\n",
    "plt.show()"
   ]
  },
  {
   "cell_type": "markdown",
   "id": "66bac784",
   "metadata": {},
   "source": [
    "## 26. Buat tabel frekuensi dan proporsi untuk responden yang prefer beli handphone secara offline vs online"
   ]
  },
  {
   "cell_type": "code",
   "execution_count": 41,
   "id": "4171c935",
   "metadata": {},
   "outputs": [
    {
     "data": {
      "text/html": [
       "<div>\n",
       "<style scoped>\n",
       "    .dataframe tbody tr th:only-of-type {\n",
       "        vertical-align: middle;\n",
       "    }\n",
       "\n",
       "    .dataframe tbody tr th {\n",
       "        vertical-align: top;\n",
       "    }\n",
       "\n",
       "    .dataframe thead th {\n",
       "        text-align: right;\n",
       "    }\n",
       "</style>\n",
       "<table border=\"1\" class=\"dataframe\">\n",
       "  <thead>\n",
       "    <tr style=\"text-align: right;\">\n",
       "      <th></th>\n",
       "      <th>Frekuensi</th>\n",
       "      <th>Proporsi</th>\n",
       "    </tr>\n",
       "    <tr>\n",
       "      <th>47. Bagaimana kecenderungan Anda jika akan berbelanja hal-hal berikut? [handphone]</th>\n",
       "      <th></th>\n",
       "      <th></th>\n",
       "    </tr>\n",
       "  </thead>\n",
       "  <tbody>\n",
       "    <tr>\n",
       "      <th>offline/ langsung datang ke toko fisik</th>\n",
       "      <td>206</td>\n",
       "      <td>0.762963</td>\n",
       "    </tr>\n",
       "    <tr>\n",
       "      <th>online</th>\n",
       "      <td>64</td>\n",
       "      <td>0.237037</td>\n",
       "    </tr>\n",
       "  </tbody>\n",
       "</table>\n",
       "</div>"
      ],
      "text/plain": [
       "                                                    Frekuensi  Proporsi\n",
       "47. Bagaimana kecenderungan Anda jika akan berb...                     \n",
       "offline/ langsung datang ke toko fisik                    206  0.762963\n",
       "online                                                     64  0.237037"
      ]
     },
     "execution_count": 41,
     "metadata": {},
     "output_type": "execute_result"
    }
   ],
   "source": [
    "#Membuat kolom frekuensi berdasarkan jenis kelamin karena jenis kelamin dapat merepresentasikan frekuensi\n",
    "df25.rename(columns = {'Jenis Kelamin':'Frekuensi'}, inplace = True)\n",
    "\n",
    "#Membuat column proporsi yaitu frekuensi/jumlah sampel\n",
    "copyFrek25 = pd.DataFrame(df25.Frekuensi)\n",
    "copyFrek25.rename(columns = {'Frekuensi':'Proporsi'}, inplace = True)\n",
    "df25 = pd.concat((df25, copyFrek25), axis = 1)\n",
    "df25['Proporsi'] = df25['Proporsi'].apply(lambda x: x/(df25.Frekuensi.sum()))\n",
    "df25[['Frekuensi', 'Proporsi']]"
   ]
  },
  {
   "cell_type": "markdown",
   "id": "0f5734c9",
   "metadata": {},
   "source": [
    "## 27. Buat bar chart / pie chart/ donut chart yang menunjukkan perbedaan frekuensi / proporsi untuk tempat beli makanan online yang pilihan responden"
   ]
  },
  {
   "cell_type": "code",
   "execution_count": 42,
   "id": "ccbacce0",
   "metadata": {},
   "outputs": [
    {
     "data": {
      "image/png": "[encoded data removed]",
      "text/plain": [
       "<Figure size 504x360 with 1 Axes>"
      ]
     },
     "metadata": {
      "needs_background": "light"
     },
     "output_type": "display_data"
    }
   ],
   "source": [
    "#Mengelompkkan data berdasarkan preferensi aplikasi tempat beli makanan online\n",
    "temp27 = df.copy()\n",
    "temp27.rename(columns = {\"50. Apakah Anda pernah menggunakan layanan Food Delivery (pembelian makanan/ minuman secara online )? Jika Pernah, mohon sebutkan layanan yang PALING sering Anda gunakan?\" : \"Aplikasi Pemesan Makanan Online\"}, inplace = True)\n",
    "df27 = temp27.groupby(\"Aplikasi Pemesan Makanan Online\").count()\n",
    "\n",
    "#Plotting pie chart\n",
    "fig, ax = plt.subplots()\n",
    "palette27 =  ['#be254a', '#dc484c', '#ef6645', '#f88c51', '#fdb365', '#fed27f']\n",
    "bars = plt.barh(df27.index, df27['Jenis Kelamin'],\n",
    "        color = palette27)\n",
    "plt.bar_label(bars)\n",
    "fig.set(\n",
    "    figwidth = 7,\n",
    "    figheight = 5\n",
    ")\n",
    "ax.set(\n",
    "    xlabel = \"Jumlah\",\n",
    "    title = \"Frekuensi Tempat Beli Makan Online Pilihan Responden\"\n",
    ")\n",
    " \n",
    "plt.show()"
   ]
  },
  {
   "cell_type": "markdown",
   "id": "d89426d5",
   "metadata": {},
   "source": [
    "## 28. Buat tabel frekuensi dan proporsi untuk tempat beli makanan online yang pilihan responden"
   ]
  },
  {
   "cell_type": "code",
   "execution_count": 43,
   "id": "0de872bd",
   "metadata": {},
   "outputs": [
    {
     "data": {
      "text/html": [
       "<div>\n",
       "<style scoped>\n",
       "    .dataframe tbody tr th:only-of-type {\n",
       "        vertical-align: middle;\n",
       "    }\n",
       "\n",
       "    .dataframe tbody tr th {\n",
       "        vertical-align: top;\n",
       "    }\n",
       "\n",
       "    .dataframe thead th {\n",
       "        text-align: right;\n",
       "    }\n",
       "</style>\n",
       "<table border=\"1\" class=\"dataframe\">\n",
       "  <thead>\n",
       "    <tr style=\"text-align: right;\">\n",
       "      <th></th>\n",
       "      <th>Frekuensi</th>\n",
       "      <th>Proporsi</th>\n",
       "    </tr>\n",
       "    <tr>\n",
       "      <th>Aplikasi Pemesan Makanan Online</th>\n",
       "      <th></th>\n",
       "      <th></th>\n",
       "    </tr>\n",
       "  </thead>\n",
       "  <tbody>\n",
       "    <tr>\n",
       "      <th>GoFood</th>\n",
       "      <td>147</td>\n",
       "      <td>0.494949</td>\n",
       "    </tr>\n",
       "    <tr>\n",
       "      <th>GrabFood</th>\n",
       "      <td>66</td>\n",
       "      <td>0.222222</td>\n",
       "    </tr>\n",
       "    <tr>\n",
       "      <th>ShopeeFood</th>\n",
       "      <td>67</td>\n",
       "      <td>0.225589</td>\n",
       "    </tr>\n",
       "    <tr>\n",
       "      <th>Tidak pernah menggunakan layanan Food Delivery</th>\n",
       "      <td>13</td>\n",
       "      <td>0.043771</td>\n",
       "    </tr>\n",
       "    <tr>\n",
       "      <th>Traveloka eats</th>\n",
       "      <td>3</td>\n",
       "      <td>0.010101</td>\n",
       "    </tr>\n",
       "    <tr>\n",
       "      <th>UberEats, Doordash</th>\n",
       "      <td>1</td>\n",
       "      <td>0.003367</td>\n",
       "    </tr>\n",
       "  </tbody>\n",
       "</table>\n",
       "</div>"
      ],
      "text/plain": [
       "                                                Frekuensi  Proporsi\n",
       "Aplikasi Pemesan Makanan Online                                    \n",
       "GoFood                                                147  0.494949\n",
       "GrabFood                                               66  0.222222\n",
       "ShopeeFood                                             67  0.225589\n",
       "Tidak pernah menggunakan layanan Food Delivery         13  0.043771\n",
       "Traveloka eats                                          3  0.010101\n",
       "UberEats, Doordash                                      1  0.003367"
      ]
     },
     "execution_count": 43,
     "metadata": {},
     "output_type": "execute_result"
    }
   ],
   "source": [
    "#Membuat kolom frekuensi berdasarkan jenis kelamin karena jenis kelamin dapat merepresentasikan frekuensi\n",
    "df27.rename(columns = {'Jenis Kelamin':'Frekuensi'}, inplace = True)\n",
    "\n",
    "#Membuat column proporsi yaitu frekuensi/jumlah sampel\n",
    "df28 = pd.DataFrame(df27.Frekuensi)\n",
    "df28.rename(columns = {'Frekuensi':'Proporsi'}, inplace = True)\n",
    "df27 = pd.concat((df27, df28), axis = 1)\n",
    "df27['Proporsi'] = df27['Proporsi'].apply(lambda x: x/(df27.Frekuensi.sum()))\n",
    "df27[['Frekuensi', 'Proporsi']]"
   ]
  },
  {
   "cell_type": "markdown",
   "id": "e4d2261d",
   "metadata": {},
   "source": [
    "## 29. Lakukan One Way ANOVA Test berikut:\n",
    "## $H_0$ : Mean umur pengguna gofood = mean umur pengguna grabfood = mean umur pengguna shopeefood\n",
    "## $H_1$ : Setidaknya ada dua grup yang memiliki mean umur yang berbeda\n",
    "## $\\alpha  : 5\\%$"
   ]
  },
  {
   "cell_type": "code",
   "execution_count": 44,
   "id": "09dd8fed",
   "metadata": {},
   "outputs": [
    {
     "name": "stdout",
     "output_type": "stream",
     "text": [
      "Karena (fhitung = 10.08) berada di (fcrit = 3.028366), maka tolak H0\n",
      "Dan karena (pvalue = 5.9e-05 < alpha = 0.05), sehingga menguatkan untuk tolak H0 pada tingkat signifikasi 5.9e-05\n"
     ]
    }
   ],
   "source": [
    "#Update temp27 (copy dari df) setelah di cleansing agar umur pengguna tidak ada NaN dan tidak ada umur yang tidak valid\n",
    "temp27.loc[:, ['Usia']] = ageTemp\n",
    "\n",
    "#Lakukan pengelompokkan\n",
    "gofood = temp27.loc[temp27['Aplikasi Pemesan Makanan Online'] == 'GoFood'].Usia\n",
    "grabfood = temp27.loc[temp27['Aplikasi Pemesan Makanan Online'] == 'GrabFood'].Usia\n",
    "shopeefood = temp27.loc[temp27['Aplikasi Pemesan Makanan Online'] == 'ShopeeFood'].Usia\n",
    "\n",
    "#Menentukan fhitung dengan One Way ANOVA with Unequal Sample Sizes\n",
    "f_oneway(gofood, grabfood, shopeefood) #didapatkan f = 10.08, pvalue = 5.9 x 10^-5 , maka\n",
    "fhitung = 10.08\n",
    "pvalue = 0.000059\n",
    "\n",
    "#Dan menggunakan excel, di dapat fcrit (F.INV.RT(0.05,2,277)) = 3.028366\n",
    "\n",
    "print(f\"Karena (fhitung = {fhitung}) berada di (fcrit = 3.028366), maka tolak H0\")\n",
    "print(f\"Dan karena (pvalue = {pvalue} < alpha = 0.05), sehingga menguatkan untuk tolak H0 pada tingkat signifikasi {pvalue}\")"
   ]
  },
  {
   "cell_type": "markdown",
   "id": "9e7a96e3",
   "metadata": {},
   "source": [
    "## 30. Tuliskan minimal 5 insights/pelajaran dari hasil pengolahan data responden."
   ]
  },
  {
   "cell_type": "code",
   "execution_count": 45,
   "id": "9cd54c3f",
   "metadata": {},
   "outputs": [
    {
     "name": "stdout",
     "output_type": "stream",
     "text": [
      "\n",
      "Berdasarkan pengolahan data responden dengan sampel sebanyak 300 orang, didapatkan insights :\n",
      "1. Responden wanita (157 orang) lebih banyak dibandingkan dengan responden pria (143 orang)\n",
      "2. Rata-rata responden berumur 30 tahun, dengan responden termuda berusia 10 tahun dan responden tertua berusia 67 tahun\n",
      "3. Profesi responden terbanyak ialah Pelajar/Mahasiswa sebanyak 146 orang\n",
      "4. Sebanyak 48.7% dari 300 responden merasa aktivitas onlinenya meningkat dalam 3 bulan terakhir\n",
      "5. Bank BNI merupakan bank paling populer\n",
      "6. Mobile Banking merupakan pilihan paling populer untuk melakukan transfer antar bank\n",
      "7. GoPay merupakan piilihan paling populer untuk penggunaan E-Money\n",
      "8. Sebagian besar responden yaitu sebanyak 23.8% dari 300 responden memilih Top Up E-Money sebesar Rp 50.001 - Rp 100.000\n",
      "9. Shopee merupakan E-Commerce paling populer\n",
      "10. Sebanyak 76.3% dari 300 responden lebih memilih membeli HP secara offline dibandingkan membelinya secara online\n",
      "11. GoFood merupakan layanan tempat beli makan online paling populer\n",
      "12. Setelah melakukan One Way ANOVA, didapatkan bahwasanya mean umur pengguna gofood, grabfood, dan shopeefood berbeda\n",
      "\n"
     ]
    }
   ],
   "source": [
    "print(\"\"\"\n",
    "Berdasarkan pengolahan data responden dengan sampel sebanyak 300 orang, didapatkan insights :\n",
    "1. Responden wanita (157 orang) lebih banyak dibandingkan dengan responden pria (143 orang)\n",
    "2. Rata-rata responden berumur 30 tahun, dengan responden termuda berusia 10 tahun dan responden tertua berusia 67 tahun\n",
    "3. Profesi responden terbanyak ialah Pelajar/Mahasiswa sebanyak 146 orang\n",
    "4. Sebanyak 48.7% dari 300 responden merasa aktivitas onlinenya meningkat dalam 3 bulan terakhir\n",
    "5. Bank BNI merupakan bank paling populer\n",
    "6. Mobile Banking merupakan pilihan paling populer untuk melakukan transfer antar bank\n",
    "7. GoPay merupakan piilihan paling populer untuk penggunaan E-Money\n",
    "8. Sebagian besar responden yaitu sebanyak 23.8% dari 300 responden memilih Top Up E-Money sebesar Rp 50.001 - Rp 100.000\n",
    "9. Shopee merupakan E-Commerce paling populer\n",
    "10. Sebanyak 76.3% dari 300 responden lebih memilih membeli HP secara offline dibandingkan membelinya secara online\n",
    "11. GoFood merupakan layanan tempat beli makan online paling populer\n",
    "12. Setelah melakukan One Way ANOVA, didapatkan bahwasanya mean umur pengguna gofood, grabfood, dan shopeefood berbeda\n",
    "\"\"\")"
   ]
  }
 ],
 "metadata": {
  "kernelspec": {
   "display_name": "Python 3 (ipykernel)",
   "language": "python",
   "name": "python3"
  },
  "language_info": {
   "codemirror_mode": {
    "name": "ipython",
    "version": 3
   },
   "file_extension": ".py",
   "mimetype": "text/x-python",
   "name": "python",
   "nbconvert_exporter": "python",
   "pygments_lexer": "ipython3",
   "version": "3.10.4"
  }
 },
 "nbformat": 4,
 "nbformat_minor": 5
}
